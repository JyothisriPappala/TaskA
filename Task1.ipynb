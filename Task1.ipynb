{
 "cells": [
  {
   "cell_type": "code",
   "execution_count": 1,
   "id": "e91819aa-ba02-4635-9c0f-f7a6bea38672",
   "metadata": {},
   "outputs": [],
   "source": [
    "import requests\n",
    "from bs4 import BeautifulSoup\n",
    "import os\n",
    "import json"
   ]
  },
  {
   "cell_type": "code",
   "execution_count": 2,
   "id": "bd5b5153-53a7-4a0a-bb13-8a91966dc94f",
   "metadata": {},
   "outputs": [],
   "source": [
    "url = \"https://www.uchicago.edu/\""
   ]
  },
  {
   "cell_type": "code",
   "execution_count": 3,
   "id": "4068ffa2-ec5a-441c-aa0d-bb2bb4ad1728",
   "metadata": {},
   "outputs": [],
   "source": [
    "def create_headers():\n",
    "    return {\n",
    "        \"User-Agent\": \"Mozilla/5.0 (Windows NT 10.0; Win64; x64) AppleWebKit/537.36 (KHTML, like Gecko) Chrome/118.0.0.0 Safari/537.36\"\n",
    "    }\n",
    "def fetch_page_content(page_url, request_headers):\n",
    "    page_response = requests.get(page_url, headers=request_headers)\n",
    "    return page_response\n",
    "def extract_content(page_response):\n",
    "    page_soup = BeautifulSoup(page_response.text, \"html.parser\")\n",
    "    content_structure = {\n",
    "        \"page_url\": page_response.url,\n",
    "        \"headings\": [],\n",
    "        \"paragraphs\": [],\n",
    "        \"miscellaneous_text\": []\n",
    "    }\n",
    "    for heading_level in range(1, 7):\n",
    "        for heading_tag in page_soup.find_all(f\"h{heading_level}\"):\n",
    "            heading_text = heading_tag.get_text(strip=True)\n",
    "            if heading_text:\n",
    "                content_structure[\"headings\"].append(heading_text)\n",
    "    for paragraph_tag in page_soup.find_all(\"p\"):\n",
    "        paragraph_text = paragraph_tag.get_text(strip=True)\n",
    "        if paragraph_text:\n",
    "            content_structure[\"paragraphs\"].append(paragraph_text)\n",
    "    for any_tag in page_soup.find_all(True):\n",
    "        if any_tag.name not in [\"h1\", \"h2\", \"h3\", \"h4\", \"h5\", \"h6\", \"p\"]:\n",
    "            tag_text = any_tag.get_text(strip=True)\n",
    "            if tag_text:\n",
    "                content_structure[\"miscellaneous_text\"].append(tag_text)\n",
    "    content_structure[\"headings\"] = list(dict.fromkeys(content_structure[\"headings\"]))\n",
    "    content_structure[\"paragraphs\"] = list(dict.fromkeys(content_structure[\"paragraphs\"]))\n",
    "    content_structure[\"miscellaneous_text\"] = list(dict.fromkeys(content_structure[\"miscellaneous_text\"]))\n",
    "    return content_structure\n",
    "def scrape_page_data(page_url):\n",
    "    headers = create_headers()\n",
    "    response = fetch_page_content(page_url, headers)\n",
    "    if response.status_code != 200:\n",
    "        return {\n",
    "            \"page_url\": page_url,\n",
    "            \"error\": f\"Failed to retrieve content, status code: {response.status_code}\"\n",
    "        }\n",
    "    return extract_content(response)\n"
   ]
  },
  {
   "cell_type": "code",
   "execution_count": 4,
   "id": "7a22fca1-529d-4266-a627-5562c1d486fc",
   "metadata": {},
   "outputs": [],
   "source": [
    "def save_data_to_file(scraped_data, output_directory):\n",
    "    domain_name = scraped_data[\"url\"].split(\"//\")[-1].split(\"/\")[0]\n",
    "    filename = f\"{domain_name}.json\"\n",
    "    file_location = os.path.join(output_directory, filename)\n",
    "    os.makedirs(output_directory, exist_ok=True)\n",
    "    with open(file_location, \"w\", encoding=\"utf-8\") as file:\n",
    "        json.dump(scraped_data, file, indent=4, ensure_ascii=False)\n",
    "    print(f\"Saved data to {file_location}\")"
   ]
  },
  {
   "cell_type": "code",
   "execution_count": 5,
   "id": "fd61579e-3e56-49d3-b578-4b9de82c2373",
   "metadata": {},
   "outputs": [
    {
     "data": {
      "text/plain": [
       "'C:\\\\Users\\\\HP'"
      ]
     },
     "execution_count": 5,
     "metadata": {},
     "output_type": "execute_result"
    }
   ],
   "source": [
    "pwd"
   ]
  },
  {
   "cell_type": "code",
   "execution_count": 6,
   "id": "a7f6b9d2-ac75-4662-a656-9454b60294cf",
   "metadata": {},
   "outputs": [
    {
     "name": "stdout",
     "output_type": "stream",
     "text": [
      " Volume in drive C is Windows\n",
      " Volume Serial Number is 3AFB-8EC9\n",
      "\n",
      " Directory of C:\\Users\\HP\n",
      "\n",
      "19-12-2024  13:55    <DIR>          .\n",
      "26-10-2024  11:41    <DIR>          ..\n",
      "05-06-2024  17:54    <DIR>          .cache\n",
      "22-05-2024  10:14    <DIR>          .eclipse\n",
      "22-04-2024  16:04    <DIR>          .idlerc\n",
      "19-12-2024  13:44    <DIR>          .ipynb_checkpoints\n",
      "19-12-2024  13:46    <DIR>          .ipython\n",
      "19-12-2024  13:38    <DIR>          .jupyter\n",
      "04-11-2024  17:05    <DIR>          .p2\n",
      "15-10-2024  18:18    <DIR>          .vscode\n",
      "15-01-2023  18:44               110 1.py\n",
      "19-12-2024  10:59             6,951 1234.py\n",
      "19-11-2024  10:12               957 143.py\n",
      "15-01-2023  18:48                87 2.py\n",
      "24-04-2024  12:23               226 211.py\n",
      "15-01-2023  18:57               126 3.py\n",
      "20-04-2024  09:25                 2 43.py\n",
      "29-04-2024  07:10    <DIR>          Contacts\n",
      "29-11-2024  23:40    <DIR>          Desktop\n",
      "21-11-2024  20:17    <DIR>          Documents\n",
      "19-12-2024  13:25    <DIR>          Downloads\n",
      "23-07-2024  21:37    <DIR>          eclipse\n",
      "17-06-2024  21:58    <DIR>          eclipse-javapgms\n",
      "30-05-2024  10:26    <DIR>          eclipse-javaprgms\n",
      "29-04-2024  07:10    <DIR>          Favorites\n",
      "29-04-2024  07:10    <DIR>          Links\n",
      "29-04-2024  07:10    <DIR>          Music\n",
      "27-10-2024  19:14    <DIR>          OneDrive\n",
      "24-05-2024  18:35    <DIR>          Pictures\n",
      "29-04-2024  07:10    <DIR>          Saved Games\n",
      "29-04-2024  07:10    <DIR>          Searches\n",
      "19-12-2024  13:40                72 Untitled.ipynb\n",
      "19-12-2024  13:55             4,352 Untitled1.ipynb\n",
      "29-04-2024  07:10    <DIR>          Videos\n",
      "30-09-2024  10:46    <DIR>          WPS Cloud Files\n",
      "               9 File(s)         12,883 bytes\n",
      "              26 Dir(s)  92,608,331,776 bytes free\n"
     ]
    }
   ],
   "source": [
    "ls"
   ]
  },
  {
   "cell_type": "code",
   "execution_count": 9,
   "id": "90bd6cc0-1948-4795-975b-c74ae1de97cb",
   "metadata": {},
   "outputs": [],
   "source": [
    "import requests\n",
    "def retrieve_data(url):\n",
    "    response = requests.get(url)\n",
    "    if response.status_code == 200:\n",
    "        return response.json() \n",
    "    else:\n",
    "        return {\"error\": \"Failed to retrieve data\"}"
   ]
  }
 ],
 "metadata": {
  "kernelspec": {
   "display_name": "Python 3 (ipykernel)",
   "language": "python",
   "name": "python3"
  },
  "language_info": {
   "codemirror_mode": {
    "name": "ipython",
    "version": 3
   },
   "file_extension": ".py",
   "mimetype": "text/x-python",
   "name": "python",
   "nbconvert_exporter": "python",
   "pygments_lexer": "ipython3",
   "version": "3.13.1"
  }
 },
 "nbformat": 4,
 "nbformat_minor": 5
}
